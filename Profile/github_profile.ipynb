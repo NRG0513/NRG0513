{
 "cells": [
  {
   "cell_type": "code",
   "execution_count": 1,
   "id": "fa9d3868",
   "metadata": {},
   "outputs": [
    {
     "name": "stdout",
     "output_type": "stream",
     "text": [
      "Hi, 👋 I’m NRG\n"
     ]
    }
   ],
   "source": [
    "import random\n",
    "\n",
    "name = [\"Gábor\", \"Gabe\", \"Gabriel\", \"NRG\"]\n",
    "name_set = random.choice(name)\n",
    "print(f\"Hi, 👋 I’m {name_set}\")"
   ]
  },
  {
   "cell_type": "code",
   "execution_count": 2,
   "id": "b295c5d3",
   "metadata": {},
   "outputs": [
    {
     "name": "stdout",
     "output_type": "stream",
     "text": [
      "About me:\n"
     ]
    }
   ],
   "source": [
    "print(f\"About me:\")"
   ]
  },
  {
   "cell_type": "code",
   "execution_count": null,
   "id": "0412ad3f",
   "metadata": {},
   "outputs": [],
   "source": [
    "from gettingLnTs.py import *"
   ]
  },
  {
   "cell_type": "code",
   "execution_count": null,
   "id": "481c2c1d",
   "metadata": {},
   "outputs": [],
   "source": [
    "gettingLnTs() #for testing purposes"
   ]
  },
  {
   "cell_type": "code",
   "execution_count": null,
   "id": "971cf5b2",
   "metadata": {},
   "outputs": [],
   "source": [
    "from IPython.display import HTML, Image\n",
    "\n",
    "def _src_from_data(data):\n",
    "    \"\"\"Base64 encodes image bytes for inclusion in an HTML img element\"\"\"\n",
    "    img_obj = Image(data=data)\n",
    "    for bundle in img_obj._repr_mimebundle_():\n",
    "        for mimetype, b64value in bundle.items():\n",
    "            if mimetype.startswith('image/'):\n",
    "                return f'data:{mimetype};base64,{b64value}'\n",
    "\n",
    "def gallery(images, row_height='auto'):\n",
    "    \"\"\"Shows a set of images in a gallery that flexes with the width of the notebook.\n",
    "    \n",
    "    Parameters\n",
    "    ----------\n",
    "    images: list of str or bytes\n",
    "        URLs or bytes of images to display\n",
    "\n",
    "    row_height: str\n",
    "        CSS height value to assign to all images. Set to 'auto' by default to show images\n",
    "        with their native dimensions. Set to a value like '250px' to make all rows\n",
    "        in the gallery equal height.\n",
    "    \"\"\"\n",
    "    \n",
    "    figures = []\n",
    "    for image in images:\n",
    "        if isinstance(image, bytes):\n",
    "            src = _src_from_data(image)\n",
    "            caption = ''\n",
    "        else:\n",
    "            src = image\n",
    "            caption = '' #f'<figcaption style=\"font-size: 0.6em\">{image}</figcaption>'\n",
    "        figures.append(f'''\n",
    "            <figure style=\"margin: 5px !important;\">\n",
    "              <img src=\"{src}\" style=\"height: {row_height}\">\n",
    "              {caption}\n",
    "            </figure>\n",
    "        ''')\n",
    "    return HTML(data=f'''\n",
    "        <div style=\"display: flex; flex-flow: row wrap; text-align: center;\">\n",
    "        {''.join(figures)}\n",
    "        </div>\n",
    "    ''')"
   ]
  },
  {
   "cell_type": "code",
   "execution_count": null,
   "id": "56a3c0ab",
   "metadata": {},
   "outputs": [],
   "source": [
    "urls = compiledText\n",
    "\n",
    "print(f\"Languages and Tools:\")\n",
    "\n",
    "gallery(urls, row_height='26px')"
   ]
  },
  {
   "cell_type": "code",
   "execution_count": null,
   "id": "dd3ce14e",
   "metadata": {},
   "outputs": [],
   "source": [
    "from IPython.display import Image\n",
    "Image(filename='dress_ass.jpg')"
   ]
  },
  {
   "cell_type": "code",
   "execution_count": null,
   "id": "1a2e5eb1",
   "metadata": {},
   "outputs": [],
   "source": [
    "from IPython.display import HTML\n",
    "\n",
    "HTML('<img src=\"https://cdn.jsdelivr.net/gh/devicons/devicon/icons/vscode/vscode-original.svg\" width=26, height=\"26\">')"
   ]
  }
 ],
 "metadata": {
  "kernelspec": {
   "display_name": "Python 3 (ipykernel)",
   "language": "python",
   "name": "python3"
  },
  "language_info": {
   "codemirror_mode": {
    "name": "ipython",
    "version": 3
   },
   "file_extension": ".py",
   "mimetype": "text/x-python",
   "name": "python",
   "nbconvert_exporter": "python",
   "pygments_lexer": "ipython3",
   "version": "3.10.3"
  }
 },
 "nbformat": 4,
 "nbformat_minor": 5
}
