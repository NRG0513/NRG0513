{
 "cells": [
  {
   "cell_type": "code",
   "execution_count": 1,
   "id": "fa9d3868",
   "metadata": {},
   "outputs": [],
   "source": [
    "from intro import *\n",
    "from about import *\n",
    "from gettingLnTs import *\n",
    "from sourceGallery import *"
   ]
  },
  {
   "cell_type": "code",
   "execution_count": 2,
   "id": "b295c5d3",
   "metadata": {},
   "outputs": [
    {
     "name": "stdout",
     "output_type": "stream",
     "text": [
      "Hi, 👋 I’m Gabriel\n"
     ]
    }
   ],
   "source": [
    "introduction()"
   ]
  },
  {
   "cell_type": "code",
   "execution_count": 3,
   "id": "0412ad3f",
   "metadata": {},
   "outputs": [
    {
     "name": "stdout",
     "output_type": "stream",
     "text": [
      "About me:\n",
      "👀 I’m interested in everything in relation to AI\n",
      "🌱 I’m currently learning DL algos :hurtrealbad: :goberserk:\n",
      "🎯 2022 Goals: solo projects with [tensorflow] Tensorflow and [pytorch] Pytorch\n"
     ]
    }
   ],
   "source": [
    "aboutMe()"
   ]
  },
  {
   "cell_type": "code",
   "execution_count": 4,
   "id": "56a3c0ab",
   "metadata": {},
   "outputs": [
    {
     "name": "stdout",
     "output_type": "stream",
     "text": [
      "Languages and Tools:\n"
     ]
    },
    {
     "data": {
      "text/html": [
       "\n",
       "        <div style=\"display: flex; flex-flow: row wrap; text-align: center;\">\n",
       "        \n",
       "            <figure style=\"margin: 5px !important;\">\n",
       "              <img src=\"https://raw.githubusercontent.com/NRG0513/NRG0513/main/Images/png/vscode-original.png\" style=\"height: 26px\">\n",
       "              \n",
       "            </figure>\n",
       "        \n",
       "            <figure style=\"margin: 5px !important;\">\n",
       "              <img src=\"https://raw.githubusercontent.com/NRG0513/NRG0513/main/Images/png/jupyter-original-wordmark.png\" style=\"height: 26px\">\n",
       "              \n",
       "            </figure>\n",
       "        \n",
       "            <figure style=\"margin: 5px !important;\">\n",
       "              <img src=\"https://raw.githubusercontent.com/NRG0513/NRG0513/main/Images/png/python-original.png\" style=\"height: 26px\">\n",
       "              \n",
       "            </figure>\n",
       "        \n",
       "            <figure style=\"margin: 5px !important;\">\n",
       "              <img src=\"https://raw.githubusercontent.com/NRG0513/NRG0513/main/Images/png/bash-original.png\" style=\"height: 26px\">\n",
       "              \n",
       "            </figure>\n",
       "        \n",
       "            <figure style=\"margin: 5px !important;\">\n",
       "              <img src=\"https://raw.githubusercontent.com/NRG0513/NRG0513/main/Images/png/git-original.png\" style=\"height: 26px\">\n",
       "              \n",
       "            </figure>\n",
       "        \n",
       "            <figure style=\"margin: 5px !important;\">\n",
       "              <img src=\"https://raw.githubusercontent.com/NRG0513/NRG0513/main/Images/png/github-original.png\" style=\"height: 26px\">\n",
       "              \n",
       "            </figure>\n",
       "        \n",
       "            <figure style=\"margin: 5px !important;\">\n",
       "              <img src=\"https://raw.githubusercontent.com/NRG0513/NRG0513/main/Images/png/numpy-original.png\" style=\"height: 26px\">\n",
       "              \n",
       "            </figure>\n",
       "        \n",
       "            <figure style=\"margin: 5px !important;\">\n",
       "              <img src=\"https://raw.githubusercontent.com/NRG0513/NRG0513/main/Images/png/tensorflow-original.png\" style=\"height: 26px\">\n",
       "              \n",
       "            </figure>\n",
       "        \n",
       "            <figure style=\"margin: 5px !important;\">\n",
       "              <img src=\"https://raw.githubusercontent.com/NRG0513/NRG0513/main/Images/png/pytorch-original.png\" style=\"height: 26px\">\n",
       "              \n",
       "            </figure>\n",
       "        \n",
       "        </div>\n",
       "    "
      ],
      "text/plain": [
       "<IPython.core.display.HTML object>"
      ]
     },
     "execution_count": 4,
     "metadata": {},
     "output_type": "execute_result"
    }
   ],
   "source": [
    "gettingLnTs()\n",
    "urls = compiledText\n",
    "print(f\"Languages and Tools:\")\n",
    "gallery(urls, row_height='26px')"
   ]
  }
 ],
 "metadata": {
  "kernelspec": {
   "display_name": "Python 3 (ipykernel)",
   "language": "python",
   "name": "python3"
  },
  "language_info": {
   "codemirror_mode": {
    "name": "ipython",
    "version": 3
   },
   "file_extension": ".py",
   "mimetype": "text/x-python",
   "name": "python",
   "nbconvert_exporter": "python",
   "pygments_lexer": "ipython3",
   "version": "3.10.3"
  }
 },
 "nbformat": 4,
 "nbformat_minor": 5
}
